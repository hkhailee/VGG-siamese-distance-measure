{
 "cells": [
  {
   "cell_type": "markdown",
   "id": "b22911ce-953a-4371-b742-8af50ff5a34f",
   "metadata": {},
   "source": [
    "# Distance Measurement between images pairs\n",
    "\n",
    "to - do : create image positive negative image pairs with anchors in regards to cleanedSwire (512x512) and cleanedRICO512 (512x512) "
   ]
  },
  {
   "cell_type": "code",
   "execution_count": 41,
   "id": "3ffaf88f-d41a-436e-ab61-0473b77f258f",
   "metadata": {},
   "outputs": [],
   "source": [
    "# needed imports \n",
    "import matplotlib.pyplot as plt\n",
    "import numpy as np\n",
    "import os\n",
    "import random\n",
    "import tensorflow as tf\n",
    "from pathlib import Path\n",
    "from tensorflow.keras import applications\n",
    "from tensorflow.keras import layers\n",
    "from tensorflow.keras import losses\n",
    "from tensorflow.keras import optimizers\n",
    "from tensorflow.keras import metrics\n",
    "from tensorflow.keras import Model\n",
    "from tensorflow.keras.applications import resnet\n",
    "import pandas as pd\n",
    "from PIL import Image\n",
    "from tqdm import tqdm\n",
    "from sklearn.model_selection import train_test_split\n",
    "import keras_toolkit as kt\n",
    "from tensorflow.keras.applications import vgg16\n",
    "from tensorflow.keras import backend as K\n",
    "import tensorflow_addons as tfa\n",
    "# for channel conversion\n",
    "import cv2\n",
    "import numpy as np\n",
    "import glob\n",
    "\n",
    "# bokeh packages\n",
    "from bokeh.io import output_file,show,output_notebook,push_notebook\n",
    "from bokeh.plotting import *\n",
    "from bokeh.models import ColumnDataSource,HoverTool,CategoricalColorMapper\n",
    "from bokeh.layouts import row,column,gridplot,widgetbox\n",
    "from bokeh.models.widgets import Tabs,Panel"
   ]
  },
  {
   "cell_type": "markdown",
   "id": "aa556891-7bd7-457c-8f92-b0f6837c3bee",
   "metadata": {},
   "source": [
    "to - do: \n",
    "creation of a seameese network using tripplet loss with the image p/n anchor pairs. "
   ]
  },
  {
   "cell_type": "markdown",
   "id": "5b080c74-209b-4e6e-a95b-87d142c2e1f6",
   "metadata": {},
   "source": [
    "# Define Image Paths"
   ]
  },
  {
   "cell_type": "code",
   "execution_count": 2,
   "id": "64da6b82-52c8-4d87-b18b-5352af4dcfe4",
   "metadata": {},
   "outputs": [],
   "source": [
    "golden_csv = pd.read_csv('C:/Users/hkhai/Documents/GAN/Distance_measure/golden.csv')"
   ]
  },
  {
   "cell_type": "code",
   "execution_count": 3,
   "id": "d92cfce6-4418-446b-bacf-3cf45df85a93",
   "metadata": {},
   "outputs": [
    {
     "data": {
      "text/html": [
       "<div>\n",
       "<style scoped>\n",
       "    .dataframe tbody tr th:only-of-type {\n",
       "        vertical-align: middle;\n",
       "    }\n",
       "\n",
       "    .dataframe tbody tr th {\n",
       "        vertical-align: top;\n",
       "    }\n",
       "\n",
       "    .dataframe thead th {\n",
       "        text-align: right;\n",
       "    }\n",
       "</style>\n",
       "<table border=\"1\" class=\"dataframe\">\n",
       "  <thead>\n",
       "    <tr style=\"text-align: right;\">\n",
       "      <th></th>\n",
       "      <th>anchorP</th>\n",
       "      <th>positiveP</th>\n",
       "    </tr>\n",
       "  </thead>\n",
       "  <tbody>\n",
       "    <tr>\n",
       "      <th>0</th>\n",
       "      <td>C:/Users/hkhai/Documents/GAN/Distance_measure/...</td>\n",
       "      <td>C:/Users/hkhai/Documents/GAN/Distance_measure/...</td>\n",
       "    </tr>\n",
       "    <tr>\n",
       "      <th>1</th>\n",
       "      <td>C:/Users/hkhai/Documents/GAN/Distance_measure/...</td>\n",
       "      <td>C:/Users/hkhai/Documents/GAN/Distance_measure/...</td>\n",
       "    </tr>\n",
       "    <tr>\n",
       "      <th>2</th>\n",
       "      <td>C:/Users/hkhai/Documents/GAN/Distance_measure/...</td>\n",
       "      <td>C:/Users/hkhai/Documents/GAN/Distance_measure/...</td>\n",
       "    </tr>\n",
       "    <tr>\n",
       "      <th>3</th>\n",
       "      <td>C:/Users/hkhai/Documents/GAN/Distance_measure/...</td>\n",
       "      <td>C:/Users/hkhai/Documents/GAN/Distance_measure/...</td>\n",
       "    </tr>\n",
       "    <tr>\n",
       "      <th>4</th>\n",
       "      <td>C:/Users/hkhai/Documents/GAN/Distance_measure/...</td>\n",
       "      <td>C:/Users/hkhai/Documents/GAN/Distance_measure/...</td>\n",
       "    </tr>\n",
       "  </tbody>\n",
       "</table>\n",
       "</div>"
      ],
      "text/plain": [
       "                                             anchorP  \\\n",
       "0  C:/Users/hkhai/Documents/GAN/Distance_measure/...   \n",
       "1  C:/Users/hkhai/Documents/GAN/Distance_measure/...   \n",
       "2  C:/Users/hkhai/Documents/GAN/Distance_measure/...   \n",
       "3  C:/Users/hkhai/Documents/GAN/Distance_measure/...   \n",
       "4  C:/Users/hkhai/Documents/GAN/Distance_measure/...   \n",
       "\n",
       "                                           positiveP  \n",
       "0  C:/Users/hkhai/Documents/GAN/Distance_measure/...  \n",
       "1  C:/Users/hkhai/Documents/GAN/Distance_measure/...  \n",
       "2  C:/Users/hkhai/Documents/GAN/Distance_measure/...  \n",
       "3  C:/Users/hkhai/Documents/GAN/Distance_measure/...  \n",
       "4  C:/Users/hkhai/Documents/GAN/Distance_measure/...  "
      ]
     },
     "execution_count": 3,
     "metadata": {},
     "output_type": "execute_result"
    }
   ],
   "source": [
    "golden_csv.head()"
   ]
  },
  {
   "cell_type": "code",
   "execution_count": 4,
   "id": "942a8e04-1186-456f-8cda-b2017475cb17",
   "metadata": {},
   "outputs": [],
   "source": [
    "anchor_images = golden_csv['anchorP'].tolist()\n",
    "positive_images = golden_csv['positiveP'].tolist()"
   ]
  },
  {
   "cell_type": "markdown",
   "id": "4407d39f-bc86-472e-89c7-fe02b599c302",
   "metadata": {},
   "source": [
    "# pre processing images to be used in the network size 256x256"
   ]
  },
  {
   "cell_type": "code",
   "execution_count": 5,
   "id": "16ea447f-f3b0-484d-8490-7b9b57c6c7c4",
   "metadata": {},
   "outputs": [],
   "source": [
    "target_shape = (256,256)\n",
    "def preprocess_image(filename):\n",
    "    \"\"\"\n",
    "    Load the specified file as a JPEG image, preprocess it and\n",
    "    resize it to the target shape.\n",
    "    \"\"\"\n",
    "\n",
    "    image_string = tf.io.read_file(filename)\n",
    "    image = tf.image.decode_jpeg(image_string, channels=3)\n",
    "    image = tf.image.convert_image_dtype(image, tf.float32)\n",
    "    image = tf.image.resize(image, target_shape)\n",
    "    return image\n",
    "\n",
    "\n",
    "def preprocess_triplets(anchor, positive, negative):\n",
    "    \"\"\"\n",
    "    Given the filenames corresponding to the three images, load and\n",
    "    preprocess them.\n",
    "    \"\"\"\n",
    "\n",
    "    return (\n",
    "        preprocess_image(anchor),\n",
    "        preprocess_image(positive),\n",
    "        preprocess_image(negative),\n",
    "    )"
   ]
  },
  {
   "cell_type": "code",
   "execution_count": 6,
   "id": "7844f5a5-b4a9-44db-9a03-f4eb23579c0d",
   "metadata": {},
   "outputs": [],
   "source": [
    "# We need to make sure both the anchor and positive images are loaded in\n",
    "# sorted order so we can match them together.\n",
    "\n",
    "image_count = len(anchor_images)\n",
    "\n",
    "anchor_dataset = tf.data.Dataset.from_tensor_slices(anchor_images)\n",
    "positive_dataset = tf.data.Dataset.from_tensor_slices(positive_images)\n"
   ]
  },
  {
   "cell_type": "code",
   "execution_count": 7,
   "id": "0b056caf-bbd4-4b1f-9ed6-80cdffc54f4f",
   "metadata": {},
   "outputs": [],
   "source": [
    "#import channels to run channel checker should be all channel 3 if 1 conversion \n",
    "#!python channels.py --source=C:/Users/hkhai/Documents/GAN/Distance_measure/UI_ss/UI_ss --dest=C:/Users/hkhai/Documents/GAN/Distance_measure/deletemeRICO --width=256 --height=256\n",
    "#!del deletemeRICO /Q"
   ]
  },
  {
   "cell_type": "code",
   "execution_count": 8,
   "id": "5b9b5113-405c-42d9-97f7-7d46fa682a5c",
   "metadata": {},
   "outputs": [],
   "source": [
    "# and again with the sketch data, this one is likely to have issues\n",
    "#!python channels.py --source=C:/Users/hkhai/Documents/GAN/Distance_measure/swire/sketches/sketches --dest=C:/Users/hkhai/Documents/GAN/Distance_measure/deletemeSk --width=256 --height=256\n",
    "#!del deletemeSk /Q"
   ]
  },
  {
   "cell_type": "code",
   "execution_count": 9,
   "id": "320f1bb0-b4b4-4d4c-bad8-183af074bde2",
   "metadata": {},
   "outputs": [],
   "source": [
    "# if issues occure above^ transform data to color aka 3 channels do not save to data transformation of stylegan2-ada-pytorch it isnt needed.\n",
    "#sketches = 'C:/Users/hkhai/Documents/GAN/Distance_measure/swire/sketches/sketches/*.jpg'\n",
    "#for infile in tqdm(glob.glob(sketches), total=image_count):\n",
    "    #img = cv2.imread(infile)\n",
    "    #gray = cv2.cvtColor(img, cv2.COLOR_BGR2GRAY)\n",
    "    #img2 = np.zeros_like(img)\n",
    "    #img2[:,:,0] = gray\n",
    "    #img2[:,:,1] = gray\n",
    "    #img2[:,:,2] = gray\n",
    "    #cv2.imwrite(infile, img2)"
   ]
  },
  {
   "cell_type": "code",
   "execution_count": 10,
   "id": "2489dd1c-b86d-4f03-a393-799b9b71f39b",
   "metadata": {},
   "outputs": [],
   "source": [
    "# generate the list of negative images, randomize the list of\n",
    "# available images and concatenate them together.\n",
    "testset = positive_images + anchor_images\n",
    "np.random.shuffle(testset)\n",
    "testset \n",
    "\n",
    "def extract(lst):\n",
    "    returnMe = []\n",
    "    count = 0\n",
    "    for obj in lst:\n",
    "        if (count < 3551):\n",
    "            returnMe.append(obj)\n",
    "        count =count +1 \n",
    "        \n",
    "    return returnMe # sublist of testset for randomization\n",
    "\n",
    "negatives = extract(testset)\n",
    "np.random.shuffle(negatives)"
   ]
  },
  {
   "cell_type": "code",
   "execution_count": 11,
   "id": "629a7ca9-cbbc-4394-97e1-ca8653c5d81d",
   "metadata": {},
   "outputs": [],
   "source": [
    "golden_csv['negative'] =negatives"
   ]
  },
  {
   "cell_type": "code",
   "execution_count": 12,
   "id": "d759b705-26f6-4710-bb01-dd9e5ff25c9c",
   "metadata": {},
   "outputs": [
    {
     "data": {
      "text/html": [
       "<div>\n",
       "<style scoped>\n",
       "    .dataframe tbody tr th:only-of-type {\n",
       "        vertical-align: middle;\n",
       "    }\n",
       "\n",
       "    .dataframe tbody tr th {\n",
       "        vertical-align: top;\n",
       "    }\n",
       "\n",
       "    .dataframe thead th {\n",
       "        text-align: right;\n",
       "    }\n",
       "</style>\n",
       "<table border=\"1\" class=\"dataframe\">\n",
       "  <thead>\n",
       "    <tr style=\"text-align: right;\">\n",
       "      <th></th>\n",
       "      <th>anchor</th>\n",
       "      <th>positive</th>\n",
       "      <th>negative</th>\n",
       "    </tr>\n",
       "  </thead>\n",
       "  <tbody>\n",
       "    <tr>\n",
       "      <th>0</th>\n",
       "      <td>C:/Users/hkhai/Documents/GAN/Distance_measure/...</td>\n",
       "      <td>C:/Users/hkhai/Documents/GAN/Distance_measure/...</td>\n",
       "      <td>C:/Users/hkhai/Documents/GAN/Distance_measure/...</td>\n",
       "    </tr>\n",
       "    <tr>\n",
       "      <th>1</th>\n",
       "      <td>C:/Users/hkhai/Documents/GAN/Distance_measure/...</td>\n",
       "      <td>C:/Users/hkhai/Documents/GAN/Distance_measure/...</td>\n",
       "      <td>C:/Users/hkhai/Documents/GAN/Distance_measure/...</td>\n",
       "    </tr>\n",
       "    <tr>\n",
       "      <th>2</th>\n",
       "      <td>C:/Users/hkhai/Documents/GAN/Distance_measure/...</td>\n",
       "      <td>C:/Users/hkhai/Documents/GAN/Distance_measure/...</td>\n",
       "      <td>C:/Users/hkhai/Documents/GAN/Distance_measure/...</td>\n",
       "    </tr>\n",
       "    <tr>\n",
       "      <th>3</th>\n",
       "      <td>C:/Users/hkhai/Documents/GAN/Distance_measure/...</td>\n",
       "      <td>C:/Users/hkhai/Documents/GAN/Distance_measure/...</td>\n",
       "      <td>C:/Users/hkhai/Documents/GAN/Distance_measure/...</td>\n",
       "    </tr>\n",
       "    <tr>\n",
       "      <th>4</th>\n",
       "      <td>C:/Users/hkhai/Documents/GAN/Distance_measure/...</td>\n",
       "      <td>C:/Users/hkhai/Documents/GAN/Distance_measure/...</td>\n",
       "      <td>C:/Users/hkhai/Documents/GAN/Distance_measure/...</td>\n",
       "    </tr>\n",
       "  </tbody>\n",
       "</table>\n",
       "</div>"
      ],
      "text/plain": [
       "                                              anchor  \\\n",
       "0  C:/Users/hkhai/Documents/GAN/Distance_measure/...   \n",
       "1  C:/Users/hkhai/Documents/GAN/Distance_measure/...   \n",
       "2  C:/Users/hkhai/Documents/GAN/Distance_measure/...   \n",
       "3  C:/Users/hkhai/Documents/GAN/Distance_measure/...   \n",
       "4  C:/Users/hkhai/Documents/GAN/Distance_measure/...   \n",
       "\n",
       "                                            positive  \\\n",
       "0  C:/Users/hkhai/Documents/GAN/Distance_measure/...   \n",
       "1  C:/Users/hkhai/Documents/GAN/Distance_measure/...   \n",
       "2  C:/Users/hkhai/Documents/GAN/Distance_measure/...   \n",
       "3  C:/Users/hkhai/Documents/GAN/Distance_measure/...   \n",
       "4  C:/Users/hkhai/Documents/GAN/Distance_measure/...   \n",
       "\n",
       "                                            negative  \n",
       "0  C:/Users/hkhai/Documents/GAN/Distance_measure/...  \n",
       "1  C:/Users/hkhai/Documents/GAN/Distance_measure/...  \n",
       "2  C:/Users/hkhai/Documents/GAN/Distance_measure/...  \n",
       "3  C:/Users/hkhai/Documents/GAN/Distance_measure/...  \n",
       "4  C:/Users/hkhai/Documents/GAN/Distance_measure/...  "
      ]
     },
     "execution_count": 12,
     "metadata": {},
     "output_type": "execute_result"
    }
   ],
   "source": [
    "golden_csv= golden_csv.rename(columns = {\"anchorP\":\"anchor\", \"positiveP\":\"positive\"})\n",
    "golden_csv.head()"
   ]
  },
  {
   "cell_type": "code",
   "execution_count": 13,
   "id": "d86b82a9-2c45-401f-9251-66a8b8505d3d",
   "metadata": {},
   "outputs": [
    {
     "name": "stdout",
     "output_type": "stream",
     "text": [
      "Running on 1 replicas\n"
     ]
    }
   ],
   "source": [
    "train_paths, val_paths = train_test_split(golden_csv, train_size=0.8, random_state=42)\n",
    "strategy = kt.accelerator.auto_select(verbose=True)\n",
    "BATCH_SIZE = strategy.num_replicas_in_sync * 16"
   ]
  },
  {
   "cell_type": "code",
   "execution_count": 14,
   "id": "42e1caa0-817b-48e1-aa5c-ec82f36ea5d9",
   "metadata": {},
   "outputs": [],
   "source": [
    "dtrain = kt.image.build_dataset(\n",
    "    (train_paths.anchor, train_paths.positive, train_paths.negative), \n",
    "    decode_fn=preprocess_triplets,\n",
    "    bsize=BATCH_SIZE,\n",
    "    augment=False,\n",
    "    repeat=False\n",
    ")\n",
    "\n",
    "dvalid = kt.image.build_dataset(\n",
    "    (val_paths.anchor, val_paths.positive, val_paths.negative), \n",
    "    decode_fn=preprocess_triplets,\n",
    "    bsize=BATCH_SIZE,\n",
    "    augment=False,\n",
    "    repeat=False\n",
    ")"
   ]
  },
  {
   "cell_type": "code",
   "execution_count": 15,
   "id": "d62a5736-8367-4393-bd79-0618b4f47e56",
   "metadata": {},
   "outputs": [],
   "source": [
    "def get_layers_output_by_name(model,layer_names):\n",
    "        return {v: model.get_layer(v).output for v in layer_names}"
   ]
  },
  {
   "cell_type": "code",
   "execution_count": 16,
   "id": "666da34e-f658-456c-8ac2-29a045589460",
   "metadata": {},
   "outputs": [],
   "source": [
    "with strategy.scope():\n",
    "    vgg_model = vgg16.VGG16(weights=\"imagenet\", include_top=False, input_shape=target_shape + (3,))\n",
    "    for layer in vgg_model.layers[:10]:\n",
    "            layer.trainable = False\n",
    "    intermediate_layer_outputs = get_layers_output_by_name(vgg_model, \n",
    "                                                        [\"block1_pool\", \"block2_pool\", \"block3_pool\", \"block4_pool\"])\n",
    "    convnet_output = layers.GlobalAveragePooling2D()(vgg_model.output)\n",
    "    for layer_name, output in intermediate_layer_outputs.items():\n",
    "            output = layers.GlobalAveragePooling2D()(output)\n",
    "            convnet_output = layers.concatenate([convnet_output, output])\n",
    "    convnet_output = layers.Dense(512, activation = 'relu')(convnet_output)\n",
    "    convnet_output = layers.Dropout(0.6)(convnet_output)\n",
    "    convnet_output = layers.Dense(512, activation = 'relu')(convnet_output)\n",
    "    #convnet_output = layers.Dropout(0.5)(convnet_output)\n",
    "    convnet_output = layers.Lambda(lambda p: K.l2_normalize(p,axis=1))(convnet_output)\n",
    "    \n",
    "    #embedding= Model(inputs=[anchor_input, positive_input, vgg_model.input], outputs=convnet_output)\n",
    "    embedding= Model(inputs=[vgg_model.input], outputs=convnet_output,name=\"Embedding\")"
   ]
  },
  {
   "cell_type": "code",
   "execution_count": 19,
   "id": "fb24d036-778d-4371-a286-09d7439da134",
   "metadata": {},
   "outputs": [],
   "source": [
    "class DistanceLayer(layers.Layer):\n",
    "    \"\"\"\n",
    "    This layer is responsible for computing the distance between the anchor\n",
    "    embedding and the positive embedding, and the anchor embedding and the\n",
    "    negative embedding.\n",
    "    \"\"\"\n",
    "\n",
    "    def __init__(self, **kwargs):\n",
    "        super().__init__(**kwargs)\n",
    "\n",
    "    def call(self, anchor, positive, negative):\n",
    "        ap_distance = tf.reduce_sum(tf.square(anchor - positive), -1)\n",
    "        an_distance = tf.reduce_sum(tf.square(anchor - negative), -1)\n",
    "        return (ap_distance, an_distance)\n",
    "\n",
    "\n",
    "with strategy.scope():\n",
    "    anchor_input = layers.Input(name=\"anchor\", shape=target_shape + (3,))\n",
    "    positive_input = layers.Input(name=\"positive\", shape=target_shape + (3,))\n",
    "    negative_input = layers.Input(name=\"negative\", shape=target_shape + (3,))\n",
    "\n",
    "    distances = DistanceLayer()(\n",
    "        embedding(vgg16.preprocess_input(anchor_input)),\n",
    "        embedding(vgg16.preprocess_input(positive_input)),\n",
    "        embedding(vgg16.preprocess_input(negative_input)),\n",
    "    )\n",
    "\n",
    "    siamese_network = Model(\n",
    "        inputs=[anchor_input, positive_input, negative_input], outputs=distances\n",
    "    )"
   ]
  },
  {
   "cell_type": "code",
   "execution_count": 20,
   "id": "4821bb0a-6c25-4bc5-a9e3-49410cd81bd0",
   "metadata": {},
   "outputs": [],
   "source": [
    "class SiameseModel(Model):\n",
    "    \"\"\"The Siamese Network model with a custom training and testing loops.\n",
    "\n",
    "    Computes the triplet loss using the three embeddings produced by the\n",
    "    Siamese Network.\n",
    "\n",
    "    The Contrastive Loss is defined as:\n",
    "       L(θ) = (1-y)(1/2)D(Xq, Xp)^2 + y(1/2){max(0, m - D(Xq, Xn)^2)}\n",
    "    \"\"\"\n",
    "\n",
    "    def __init__(self, siamese_network, margin=0.5):\n",
    "        super(SiameseModel, self).__init__()\n",
    "        self.siamese_network = siamese_network\n",
    "        self.margin = margin\n",
    "        self.loss_tracker = metrics.Mean(name=\"loss\")\n",
    "\n",
    "    def call(self, inputs):\n",
    "        return self.siamese_network(inputs)\n",
    "\n",
    "    def train_step(self, data):\n",
    "        # GradientTape is a context manager that records every operation that\n",
    "        # you do inside. We are using it here to compute the loss so we can get\n",
    "        # the gradients and apply them using the optimizer specified in\n",
    "        # `compile()`.\n",
    "        with tf.GradientTape() as tape:\n",
    "            loss = self._compute_loss(data)\n",
    "\n",
    "        # Storing the gradients of the loss function with respect to the\n",
    "        # weights/parameters.\n",
    "        gradients = tape.gradient(loss, self.siamese_network.trainable_weights)\n",
    "\n",
    "        # Applying the gradients on the model using the specified optimizer\n",
    "        self.optimizer.apply_gradients(\n",
    "            zip(gradients, self.siamese_network.trainable_weights)\n",
    "        )\n",
    "\n",
    "        # Let's update and return the training loss metric.\n",
    "        self.loss_tracker.update_state(loss)\n",
    "        return {\"loss\": self.loss_tracker.result()}\n",
    "\n",
    "    def test_step(self, data):\n",
    "        loss = self._compute_loss(data)\n",
    "\n",
    "        # Let's update and return the loss metric.\n",
    "        self.loss_tracker.update_state(loss)\n",
    "        return {\"loss\": self.loss_tracker.result()}\n",
    "\n",
    "    def _compute_loss(self, data):\n",
    "        # The output of the network is a tuple containing the distances\n",
    "        # between the anchor and the positive example, and the anchor and\n",
    "        # the negative example.\n",
    "        loss = tf.convert_to_tensor(0,dtype=tf.float32)\n",
    "        g = tf.constant(1.0, shape=[1], dtype=tf.float32)\n",
    "        h = tf.constant(0.0, shape=[1], dtype=tf.float32)\n",
    "        \n",
    "        def _contrastive_loss(y_true, y_pred):\n",
    "            return tfa.losses.contrastive_loss(y_true, y_pred)\n",
    "        \n",
    "        ap_distance, an_distance = self.siamese_network(data)\n",
    "        loss_query_pos = _contrastive_loss(g, ap_distance)\n",
    "        loss_query_neg = _contrastive_loss(h, an_distance)\n",
    "        loss = loss + loss_query_pos + loss_query_neg\n",
    "\n",
    "        # Computing the Triplet Loss by subtracting both distances and\n",
    "        # making sure we don't get a negative value.\n",
    "        #loss = ap_distance - an_distance\n",
    "        loss = tf.maximum(loss + self.margin, 0.0)\n",
    "        return loss\n",
    "\n",
    "    @property\n",
    "    def metrics(self):\n",
    "        # We need to list our metrics here so the `reset_states()` can be\n",
    "        # called automatically.\n",
    "        return [self.loss_tracker]"
   ]
  },
  {
   "cell_type": "code",
   "execution_count": 21,
   "id": "cd8f7d36-d7d1-48d7-b0a6-8382d15167e9",
   "metadata": {},
   "outputs": [],
   "source": [
    "class SiameseModelExperiment(Model):\n",
    "    \"\"\"The Siamese Network model with a custom training and testing loops.\n",
    "\n",
    "    Computes the triplet loss using the three embeddings produced by the\n",
    "    Siamese Network.\n",
    "    \"\"\"\n",
    "\n",
    "    def __init__(self, network, margin=0.5, batch_size=32):\n",
    "        super(SiameseModel, self).__init__()\n",
    "        self.model = network\n",
    "        self.margin = margin\n",
    "        self.batch_size = batch_size\n",
    "        self.loss_tracker = metrics.Mean(name=\"loss\")\n",
    "\n",
    "    def call(self, inputs):\n",
    "        return self.model(inputs)\n",
    "\n",
    "    def train_step(self, data):\n",
    "        # GradientTape is a context manager that records every operation that\n",
    "        # you do inside. We are using it here to compute the loss so we can get\n",
    "        # the gradients and apply them using the optimizer specified in\n",
    "        # `compile()`.\n",
    "        with tf.GradientTape() as tape:\n",
    "            q_emd = self.model((data[0], data[0], data[0]), training = True)\n",
    "            p_emd = self.model((data[1], data[1], data[1]), training = True)\n",
    "            n_emd = self.model((data[2], data[2], data[2]), training = True)\n",
    "            loss_value = self.contrastive_loss_function(q_emd, p_emd, n_emd, self.batch_size)\n",
    "            accuracy_value = self.accuracy(q_emd, p_emd, n_emd, self.batch_size)\n",
    "\n",
    "        grads = tape.gradient(loss_value, self.model.trainable_weights)\n",
    "        self.optimizer.apply_gradients(zip(grads, self.model.trainable_weights))\n",
    "        return {\"loss\": loss_value, \"acc\":accuracy_value}\n",
    "    \n",
    "    def test_step(self, data):\n",
    "        loss = self._compute_loss(data)\n",
    "\n",
    "        # Let's update and return the loss metric.\n",
    "        self.loss_tracker.update_state(loss)\n",
    "        return {\"loss\": self.loss_tracker.result()}\n",
    "    \n",
    "    def contrastive_loss_function(self, q_emd, p_emd, n_emd, batch_size):\n",
    "        '''\n",
    "          Ref: https://github.com/gofynd/mildnet/blob/master/trainer/loss.py\n",
    "          This function takes embedding generated by model for each of the image\n",
    "          part of the triplet and return the loss value for the batch.\n",
    "          q_emd(input): embedding generated by model for query image(tensor of size [batch, 4096])\n",
    "          p_emd(input): embedding generated by model for query image(tensor of size [batch, 4096])\n",
    "          n_emd(input): embedding generated by model for query image(tensor of size [batch, 4096])\n",
    "          batch_size(input): batch size for each step\n",
    "          loss(output): Final loss for a batch\n",
    "        '''\n",
    "        def _contrastive_loss(y_true, y_pred):\n",
    "            return tfa.losses.contrastive_loss(y_true, y_pred)\n",
    "\n",
    "        loss = tf.convert_to_tensor(0,dtype=tf.float32)\n",
    "        g = tf.constant(1.0, shape=[1], dtype=tf.float32)\n",
    "        h = tf.constant(0.0, shape=[1], dtype=tf.float32)\n",
    "\n",
    "        for obs_num in range(batch_size):\n",
    "            dist_query_pos = tf.sqrt(tf.reduce_sum((q_emd[obs_num] - p_emd[obs_num])**2))\n",
    "            dist_query_neg = tf.sqrt(tf.reduce_sum((q_emd[obs_num] - n_emd[obs_num])**2))\n",
    "            loss_query_pos = _contrastive_loss(g, dist_query_pos)\n",
    "            loss_query_neg = _contrastive_loss(h, dist_query_neg)\n",
    "            loss = loss + loss_query_pos + loss_query_neg\n",
    "\n",
    "        loss = loss/(batch_size*2)\n",
    "        zero = tf.constant(0.0, shape=[1], dtype=tf.float32)\n",
    "        return tf.maximum(loss, zero)\n",
    "    \n",
    "    def accuracy(self, q_emd, p_emd, n_emd, batch_size):\n",
    "        '''\n",
    "          Ref: https://github.com/gofynd/mildnet/blob/master/trainer/accuracy.py\n",
    "          This function takes in embedding and return the accuracy value for the batch\n",
    "          q_emd(input): embedding generated by model for query image(tensor of size [batch, 4096])\n",
    "          p_emd(input): embedding generated by model for query image(tensor of size [batch, 4096])\n",
    "          n_emd(input): embedding generated by model for query image(tensor of size [batch, 4096])\n",
    "          batch_size(input): batch size for each step\n",
    "          accuracy(output): Final accuracy value for a batch\n",
    "        '''\n",
    "        accuracy = 0\n",
    "        for obs_num in range(batch_size):\n",
    "            dist_query_pos = tf.sqrt(tf.reduce_sum((q_emd[obs_num] - p_emd[obs_num])**2))\n",
    "            dist_query_neg = tf.sqrt(tf.reduce_sum((q_emd[obs_num] - n_emd[obs_num])**2))\n",
    "            accuracy += tf.cond(dist_query_neg > dist_query_pos, lambda : 1, lambda : 0)\n",
    "\n",
    "        return (accuracy * 100) / batch_size"
   ]
  },
  {
   "cell_type": "code",
   "execution_count": 57,
   "id": "bf1970be-6d47-494c-bb44-ea2f1f087a7b",
   "metadata": {},
   "outputs": [
    {
     "data": {
      "image/png": "[encoded data removed]",
      "text/plain": [
       "<Figure size 648x648 with 9 Axes>"
      ]
     },
     "metadata": {
      "needs_background": "light"
     },
     "output_type": "display_data"
    }
   ],
   "source": [
    "def visualize(anchor, positive, negative):\n",
    "    \"\"\"Visualize a few triplets from the supplied batches.\"\"\"\n",
    "\n",
    "    def show(ax, image):\n",
    "        ax.imshow(image)\n",
    "        ax.get_xaxis().set_visible(False)\n",
    "        ax.get_yaxis().set_visible(False)\n",
    "\n",
    "    fig = plt.figure(figsize=(9, 9))\n",
    "\n",
    "    axs = fig.subplots(3, 3)\n",
    "    for i in range(3):\n",
    "        show(axs[i, 0], anchor[i])\n",
    "        show(axs[i, 1], positive[i])\n",
    "        show(axs[i, 2], negative[i])\n",
    "\n",
    "\n",
    "visualize(*list(dtrain.take(1).as_numpy_iterator())[0])"
   ]
  },
  {
   "cell_type": "markdown",
   "id": "73f6fb78-146b-405b-ad91-b24360fbee24",
   "metadata": {},
   "source": [
    "# training"
   ]
  },
  {
   "cell_type": "code",
   "execution_count": 22,
   "id": "b0611d43-abe7-4782-8ba0-0c67c294c521",
   "metadata": {},
   "outputs": [
    {
     "name": "stdout",
     "output_type": "stream",
     "text": [
      "Epoch 1/20\n",
      "178/178 [==============================] - 1990s 11s/step - loss: 1.5006 - val_loss: 1.5000\n",
      "Epoch 2/20\n",
      "178/178 [==============================] - 2008s 11s/step - loss: 1.5070 - val_loss: 1.5000\n",
      "Epoch 3/20\n",
      "178/178 [==============================] - 1984s 11s/step - loss: 1.5025 - val_loss: 1.4490\n",
      "Epoch 4/20\n",
      "178/178 [==============================] - 1964s 11s/step - loss: 1.3384 - val_loss: 1.0696\n",
      "Epoch 5/20\n",
      "178/178 [==============================] - 1965s 11s/step - loss: 1.0945 - val_loss: 0.9889\n",
      "Epoch 6/20\n",
      "178/178 [==============================] - 1976s 11s/step - loss: 0.9885 - val_loss: 0.9312\n",
      "Epoch 7/20\n",
      "178/178 [==============================] - 2004s 11s/step - loss: 0.9507 - val_loss: 0.9311\n",
      "Epoch 8/20\n",
      "178/178 [==============================] - 1980s 11s/step - loss: 0.9088 - val_loss: 0.8996\n",
      "Epoch 9/20\n",
      "178/178 [==============================] - 2031s 11s/step - loss: 0.8795 - val_loss: 0.8527\n",
      "Epoch 10/20\n",
      "178/178 [==============================] - 2008s 11s/step - loss: 0.8728 - val_loss: 0.9007\n",
      "Epoch 11/20\n",
      "178/178 [==============================] - 2017s 11s/step - loss: 0.8519 - val_loss: 0.8201\n",
      "Epoch 12/20\n",
      "178/178 [==============================] - 2019s 11s/step - loss: 0.8386 - val_loss: 0.8139\n",
      "Epoch 13/20\n",
      "178/178 [==============================] - 2020s 11s/step - loss: 0.8250 - val_loss: 0.7992\n",
      "Epoch 14/20\n",
      "178/178 [==============================] - 2027s 11s/step - loss: 0.8090 - val_loss: 0.7983\n",
      "Epoch 15/20\n",
      "178/178 [==============================] - 2017s 11s/step - loss: 0.8026 - val_loss: 0.7932\n",
      "Epoch 16/20\n",
      "178/178 [==============================] - 2033s 11s/step - loss: 0.7917 - val_loss: 0.7788\n",
      "Epoch 17/20\n",
      "178/178 [==============================] - 2020s 11s/step - loss: 0.7865 - val_loss: 0.7739\n",
      "Epoch 18/20\n",
      "178/178 [==============================] - 1973s 11s/step - loss: 0.7738 - val_loss: 0.7810\n",
      "Epoch 19/20\n",
      "178/178 [==============================] - 1990s 11s/step - loss: 0.7658 - val_loss: 0.7752\n",
      "Epoch 20/20\n",
      "178/178 [==============================] - 1960s 11s/step - loss: 0.7599 - val_loss: 0.7669\n"
     ]
    }
   ],
   "source": [
    "with strategy.scope():\n",
    "    siamese_model = SiameseModel(siamese_network)\n",
    "    #siamese_model.compile(optimizer=optimizers.Adam(0.0001))\n",
    "    siamese_model.compile(optimizer=tf.keras.optimizers.RMSprop(learning_rate = 0.001))\n",
    "\n",
    "hist = siamese_model.fit(dtrain, epochs=20, validation_data=dvalid)"
   ]
  },
  {
   "cell_type": "code",
   "execution_count": 23,
   "id": "6345c2bb-8b8b-46e3-bb93-b6b006876021",
   "metadata": {},
   "outputs": [],
   "source": [
    "siamese_model.save_weights('siamese_model.h5')\n",
    "siamese_model.siamese_network.save_weights('siamese_network.h5')\n",
    "embedding_net = siamese_model.siamese_network.get_layer(\"Embedding\")\n",
    "embedding_net.save_weights('embedding_net.h5')"
   ]
  },
  {
   "cell_type": "code",
   "execution_count": 30,
   "id": "7b202d00-4dda-4a4a-8542-1ebb782be83b",
   "metadata": {},
   "outputs": [
    {
     "data": {
      "text/plain": [
       "<tensorflow.python.keras.callbacks.History at 0x22815bc6ef0>"
      ]
     },
     "execution_count": 30,
     "metadata": {},
     "output_type": "execute_result"
    }
   ],
   "source": [
    "hist"
   ]
  },
  {
   "cell_type": "markdown",
   "id": "2b6b9d68-d544-4541-ae77-1c4605e10f45",
   "metadata": {},
   "source": [
    "# embedding"
   ]
  },
  {
   "cell_type": "code",
   "execution_count": 75,
   "id": "06890159-9cbb-46cf-bb41-1e46a4f6fb84",
   "metadata": {},
   "outputs": [],
   "source": [
    "from io import BytesIO\n",
    "import base64\n",
    "\n",
    "def embeddable_image(img):\n",
    "    img = img.split('/')[-1]\n",
    "    if(os.path.exists('C:/Users/hkhai/Documents/GAN/Distance_measure/UI_ss/'+img)): # if real exisits\n",
    "        img = 'C:/Users/hkhai/Documents/GAN/Distance_measure/UI_ss/'+img\n",
    "    elif(os.path.exists('C:/Users/hkhai/Documents/GAN/Distance_measure/swire/sketches/'+img)): # if sketch exisits\n",
    "        img = 'C:/Users/hkhai/Documents/GAN/Distance_measure/swire/sketches/'+img\n",
    "    else: \n",
    "        print(\"image not found\")\n",
    "        \n",
    "    data = Image.open(img)\n",
    "    data =np.asarray(data)\n",
    "    \n",
    "    img_data = data.astype(np.uint8)\n",
    "    image = Image.fromarray(img_data).resize((50,50), Image.BICUBIC)\n",
    "    buffer = BytesIO()\n",
    "    image.save(buffer, format='png')\n",
    "    for_encoding = buffer.getvalue()\n",
    "    return 'data:image/png;base64,' + base64.b64encode(for_encoding).decode()"
   ]
  },
  {
   "cell_type": "code",
   "execution_count": 34,
   "id": "d72abf6b-73dd-4f53-a8f0-72af9b8581f2",
   "metadata": {},
   "outputs": [],
   "source": [
    "pred = model.predict(dvalid)\n",
    "pred = np.nan_to_num(pred)"
   ]
  },
  {
   "cell_type": "code",
   "execution_count": 58,
   "id": "2f5b018b-734e-4651-a734-fc5f3143785d",
   "metadata": {},
   "outputs": [],
   "source": [
    "data_valid = golden_csv\n",
    "data_valid =data_valid.loc[val_paths.index,:].reset_index(drop=True)\n",
    "data_valid2 =val_paths.reset_index(drop=True)"
   ]
  },
  {
   "cell_type": "code",
   "execution_count": 63,
   "id": "44c15b99-4743-4903-a38c-2bf330baaadc",
   "metadata": {},
   "outputs": [
    {
     "data": {
      "text/plain": [
       "array([[0.        , 0.00725231, 0.        , ..., 0.        , 0.        ,\n",
       "        0.04942467],\n",
       "       [0.        , 0.        , 0.        , ..., 0.        , 0.        ,\n",
       "        0.10276573],\n",
       "       [0.        , 0.        , 0.        , ..., 0.        , 0.        ,\n",
       "        0.08066139],\n",
       "       ...,\n",
       "       [0.        , 0.        , 0.        , ..., 0.        , 0.        ,\n",
       "        0.08279438],\n",
       "       [0.        , 0.        , 0.        , ..., 0.        , 0.        ,\n",
       "        0.06660102],\n",
       "       [0.        , 0.        , 0.        , ..., 0.        , 0.        ,\n",
       "        0.08503652]], dtype=float32)"
      ]
     },
     "execution_count": 63,
     "metadata": {},
     "output_type": "execute_result"
    }
   ],
   "source": [
    "pred"
   ]
  },
  {
   "cell_type": "markdown",
   "id": "b9de259a-afb8-46d4-beb0-9b16b85247a4",
   "metadata": {},
   "source": [
    "# Computing average similarity distance between dtrain set baseline"
   ]
  },
  {
   "cell_type": "code",
   "execution_count": 95,
   "id": "49fc5209-1682-4fc4-a46d-505ade9791f9",
   "metadata": {},
   "outputs": [
    {
     "name": "stderr",
     "output_type": "stream",
     "text": [
      "100%|██████████| 178/178 [20:27<00:00,  6.90s/it]\n"
     ]
    }
   ],
   "source": [
    "pos_pair_sim = []\n",
    "neg_pair_sim = []\n",
    "t = len(dtrain)\n",
    "\n",
    "for sample in tqdm(dtrain, total =t):\n",
    "\n",
    "    anchor, positive, negative = sample\n",
    "    anchor_embedding, positive_embedding, negative_embedding = (\n",
    "        (embedding_net(anchor)),\n",
    "        (embedding_net(positive)),\n",
    "        (embedding_net(negative)),\n",
    "    )\n",
    "\n",
    "    cosine_similarity = metrics.CosineSimilarity()\n",
    "\n",
    "    positive_similarity = cosine_similarity(anchor_embedding, positive_embedding)\n",
    "    #print(\"Positive similarity:\", positive_similarity.numpy())\n",
    "    pos_pair_sim.append(positive_similarity)\n",
    "\n",
    "    negative_similarity = cosine_similarity(anchor_embedding, negative_embedding)\n",
    "    #print(\"Negative similarity\", negative_similarity.numpy())\n",
    "    neg_pair_sim.append(negative_similarity)"
   ]
  },
  {
   "cell_type": "code",
   "execution_count": 96,
   "id": "6aaf2ada-57e3-4f50-a01d-a7f653de7ffd",
   "metadata": {},
   "outputs": [
    {
     "name": "stdout",
     "output_type": "stream",
     "text": [
      "positive average distance: 0.962952\n",
      "negative average distance: 0.95551467\n"
     ]
    }
   ],
   "source": [
    "import statistics\n",
    "pps=[]\n",
    "for i in pos_pair_sim:\n",
    "    i = i.numpy()\n",
    "    pps.append(i)\n",
    "    \n",
    "print(\"positive average distance:\",statistics.mean(pps))\n",
    "\n",
    "nps=[]\n",
    "for i in neg_pair_sim:\n",
    "    i = i.numpy()\n",
    "    nps.append(i)  \n",
    "    \n",
    "print(\"negative average distance:\",statistics.mean(nps))"
   ]
  },
  {
   "cell_type": "code",
   "execution_count": 98,
   "id": "5336696b-4313-488b-989a-b6ec51a23d49",
   "metadata": {},
   "outputs": [
    {
     "name": "stderr",
     "output_type": "stream",
     "text": [
      "100%|██████████| 45/45 [05:15<00:00,  7.02s/it]\n"
     ]
    }
   ],
   "source": [
    "pos_pair_simvalid = []\n",
    "neg_pair_simvalid = []\n",
    "t = len(dvalid)\n",
    "\n",
    "for sample in tqdm(dvalid, total =t):\n",
    "\n",
    "    anchor, positive, negative = sample\n",
    "    anchor_embedding, positive_embedding, negative_embedding = (\n",
    "        (embedding_net(anchor)),\n",
    "        (embedding_net(positive)),\n",
    "        (embedding_net(negative)),\n",
    "    )\n",
    "\n",
    "    cosine_similarity = metrics.CosineSimilarity()\n",
    "\n",
    "    positive_similarity = cosine_similarity(anchor_embedding, positive_embedding)\n",
    "    #print(\"Positive similarity:\", positive_similarity.numpy())\n",
    "    pos_pair_simvalid.append(positive_similarity)\n",
    "\n",
    "    negative_similarity = cosine_similarity(anchor_embedding, negative_embedding)\n",
    "    #print(\"Negative similarity\", negative_similarity.numpy())\n",
    "    neg_pair_simvalid.append(negative_similarity)"
   ]
  },
  {
   "cell_type": "code",
   "execution_count": 100,
   "id": "8ea3aea8-3f6a-4426-94dd-2b6dc1ad75c1",
   "metadata": {},
   "outputs": [
    {
     "name": "stdout",
     "output_type": "stream",
     "text": [
      "positive average distance validation set: 0.961512\n",
      "negative average distance validation set: 0.9552503\n"
     ]
    }
   ],
   "source": [
    "pps_v=[]\n",
    "for i in pos_pair_simvalid:\n",
    "    i = i.numpy()\n",
    "    pps_v.append(i)\n",
    "    \n",
    "print(\"positive average distance validation set:\",statistics.mean(pps_v))\n",
    "nps_v=[]\n",
    "for i in neg_pair_simvalid:\n",
    "    i = i.numpy()\n",
    "    nps_v.append(i)\n",
    "    \n",
    "print(\"negative average distance validation set:\", statistics.mean(nps_v))"
   ]
  },
  {
   "cell_type": "markdown",
   "id": "8abf84a5-3349-4523-9424-717e21d5a3e7",
   "metadata": {},
   "source": [
    "# data visualization --bokeh"
   ]
  },
  {
   "cell_type": "code",
   "execution_count": 36,
   "id": "494be75c-f071-4126-8c6d-f2380c529f98",
   "metadata": {},
   "outputs": [],
   "source": [
    "from sklearn.decomposition import PCA\n",
    "import matplotlib.pyplot as plt\n",
    "from sklearn import preprocessing\n",
    "import seaborn as sns"
   ]
  },
  {
   "cell_type": "code",
   "execution_count": 37,
   "id": "3d26a86d-3b9a-4aec-856a-005f0d86a843",
   "metadata": {},
   "outputs": [],
   "source": [
    "scale = preprocessing.StandardScaler()\n",
    "X = scale.fit_transform(pred)\n",
    "X_norm = preprocessing.normalize(X)\n",
    "\n",
    "pca_N = PCA(n_components=2)\n",
    "principalComponents_N = pca_N.fit_transform(X_norm)"
   ]
  },
  {
   "cell_type": "code",
   "execution_count": 43,
   "id": "610c9d27-fb7e-4803-b2a5-0f527f75b284",
   "metadata": {},
   "outputs": [],
   "source": [
    "# initial source\n",
    "source = ColumnDataSource(data=dict(\n",
    "    x = principalComponents_N[:, 0],\n",
    "    y = principalComponents_N[:, 1],\n",
    "    x_backup = principalComponents_N[:, 0],\n",
    "    y_backup = principalComponents_N[:, 1],\n",
    "    anchor = data_valid.anchor,\n",
    "    positive = data_valid.positive,\n",
    "    negative = data_valid.negative\n",
    "))\n",
    "\n",
    "# hover tool\n",
    "hover = HoverTool(tooltips = [(\"anchor\",\"@anchor\"),(\"positive\",\"@positive\"),(\"negative\",\"@negative\")],\n",
    "                 point_policy=\"follow_mouse\")\n",
    "\n",
    "# plotting\n",
    "plot=figure(title =\"PCA Visualization\",\n",
    "            plot_width=900, plot_height=900, \n",
    "            tools=[hover,\"crosshair\",\"pan\",\"box_zoom\",\"wheel_zoom\", \"reset\"])\n",
    "# plot settings\n",
    "plot.scatter('x', 'y', size=5, \n",
    "          source=source,\n",
    "          \n",
    "          line_alpha=0.3,\n",
    "          line_color=\"black\")\n",
    "\n",
    "# this is different from what we learn up to now.\n",
    "# update method: When slider is changed or when different value from drop down tool is chosen this method is called.\n",
    "# In this method x and y axis are updated from drop dawn value and year is updated from slider value.\n",
    "show(plot,notebook_handle=True)"
   ]
  },
  {
   "cell_type": "code",
   "execution_count": 53,
   "id": "ae63c707-023d-476d-ba45-618d719ae4f8",
   "metadata": {},
   "outputs": [],
   "source": [
    "# initial source\n",
    "source = ColumnDataSource(data=dict(\n",
    "    x = principalComponents_N[:, 0],\n",
    "    y = principalComponents_N[:, 1],\n",
    "    x_backup = principalComponents_N[:, 0],\n",
    "    y_backup = principalComponents_N[:, 1],\n",
    "    anchor = data_valid.anchor,\n",
    "    image = list(map(embeddable_image, data_valid2.anchor))\n",
    "))\n",
    "\n",
    "# hover tool\n",
    "#hover = HoverTool(tooltips = [(\"anchor\",\"@anchor\"),(\"positive\",\"@positive\"),(\"negative\",\"@negative\")],\n",
    "#                 point_policy=\"follow_mouse\")\n",
    "\n",
    "# plotting\n",
    "plot=figure(title =\"PCA Visualization with Anchor Images\",\n",
    "            plot_width=900, plot_height=850, \n",
    "            tools=[\"pan\", \"wheel_zoom\", \"reset\",\"crosshair\",\"box_zoom\"])\n",
    "\n",
    "plot.add_tools(HoverTool(tooltips=\"\"\"\n",
    "<div>\n",
    "    <div>\n",
    "        <img src='@image' style='float: left; margin: 30px 30px 30px 30px'/>\n",
    "    </div>\n",
    "    <div>\n",
    "        <span style='font-size: 10px; color: #224499'>Anchor:</span>\n",
    "        <span style='font-size: 10px'>@anchor</span>\n",
    "    </div>\n",
    "</div>\n",
    "\"\"\"))\n",
    "\n",
    "# plot settings\n",
    "plot.scatter('x', 'y', size=5, \n",
    "          source=source,\n",
    "          \n",
    "          line_alpha=0.3,\n",
    "          line_color=\"black\")\n",
    "\n",
    "# this is different from what we learn up to now.\n",
    "# update method: When slider is changed or when different value from drop down tool is chosen this method is called.\n",
    "# In this method x and y axis are updated from drop dawn value and year is updated from slider value.\n",
    "show(plot,notebook_handle=True) "
   ]
  },
  {
   "cell_type": "code",
   "execution_count": 54,
   "id": "161ebadf-1f17-4cfc-aba5-f18933501c1f",
   "metadata": {},
   "outputs": [],
   "source": [
    "from sklearn.manifold import TSNE\n",
    "\n",
    "pca_50 = PCA(n_components=5)\n",
    "principalComponents_50 = pca_50.fit_transform(pred)\n",
    "\n",
    "tsne_50 = TSNE(random_state = 42, n_components=2,verbose=0, perplexity=50, n_iter=300).fit_transform(principalComponents_50)"
   ]
  },
  {
   "cell_type": "code",
   "execution_count": 55,
   "id": "4cb49e22-d6b9-47f0-9c7a-79ce716876ad",
   "metadata": {},
   "outputs": [],
   "source": [
    "# initial source\n",
    "sourceA = ColumnDataSource(data=dict(\n",
    "    x = tsne_50[:, 0],\n",
    "    y = tsne_50[:, 1],\n",
    "    x_backup = tsne_50[:, 0],\n",
    "    y_backup = tsne_50[:, 1],\n",
    "    anchor = data_valid.anchor,\n",
    "    positive = data_valid.positive,\n",
    "    negative = data_valid.negative\n",
    "))\n",
    "\n",
    "# hover tool\n",
    "hoverA = HoverTool(tooltips = [(\"anchor\",\"@anchor\"),(\"positive\",\"@positive\"),(\"negative\",\"@negative\")],\n",
    "                 point_policy=\"follow_mouse\")\n",
    "\n",
    "# plotting\n",
    "plotA=figure(title =\"TSNE on PCA Visualization\",\n",
    "            plot_width=900, plot_height=850, \n",
    "            tools=[hoverA,\"crosshair\",\"pan\",\"box_zoom\"])\n",
    "# plot settings\n",
    "plotA.scatter('x', 'y', size=5, \n",
    "          source=sourceA,\n",
    "          \n",
    "          line_alpha=0.3,\n",
    "          line_color=\"black\")\n",
    "\n",
    "# this is different from what we learn up to now.\n",
    "# update method: When slider is changed or when different value from drop down tool is chosen this method is called.\n",
    "# In this method x and y axis are updated from drop dawn value and year is updated from slider value.\n",
    "show(plotA,notebook_handle=True)"
   ]
  },
  {
   "cell_type": "code",
   "execution_count": null,
   "id": "530fc8a2-53c7-4048-87a5-7607fb35f9f3",
   "metadata": {},
   "outputs": [],
   "source": []
  }
 ],
 "metadata": {
  "kernelspec": {
   "display_name": "Python 3",
   "language": "python",
   "name": "python3"
  },
  "language_info": {
   "codemirror_mode": {
    "name": "ipython",
    "version": 3
   },
   "file_extension": ".py",
   "mimetype": "text/x-python",
   "name": "python",
   "nbconvert_exporter": "python",
   "pygments_lexer": "ipython3",
   "version": "3.6.13"
  }
 },
 "nbformat": 4,
 "nbformat_minor": 5
}
